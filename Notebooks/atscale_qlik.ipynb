{
 "cells": [
  {
   "attachments": {
    "AtScale_Icon_RGB_2C.png": {
     "image/png": "[encoded data removed]"
    }
   },
   "cell_type": "markdown",
   "metadata": {},
   "source": [
    "![AtScale_Icon_RGB_2C.png](attachment:AtScale_Icon_RGB_2C.png)"
   ]
  },
  {
   "cell_type": "markdown",
   "metadata": {},
   "source": [
    "# AtScale Qlik Script and Master Element Generator "
   ]
  },
  {
   "cell_type": "code",
   "execution_count": null,
   "metadata": {},
   "outputs": [],
   "source": [
    "#pip install atscale"
   ]
  },
  {
   "cell_type": "code",
   "execution_count": null,
   "metadata": {},
   "outputs": [],
   "source": [
    "%load_ext dotenv\n",
    "%dotenv"
   ]
  },
  {
   "cell_type": "code",
   "execution_count": null,
   "metadata": {},
   "outputs": [],
   "source": [
    "import os\n",
    "\n",
    "from atscale.client import Client\n",
    "from atscale.data_model import DataModel\n",
    "from atscale.project import Project"
   ]
  },
  {
   "cell_type": "markdown",
   "metadata": {},
   "source": [
    "Suppress warnings if you are using self signed certificates"
   ]
  },
  {
   "cell_type": "code",
   "execution_count": null,
   "metadata": {},
   "outputs": [],
   "source": [
    "import requests\n",
    "requests.packages.urllib3.disable_warnings() "
   ]
  },
  {
   "cell_type": "markdown",
   "metadata": {},
   "source": [
    "Connect to your AtScale Env"
   ]
  },
  {
   "cell_type": "code",
   "execution_count": null,
   "metadata": {},
   "outputs": [],
   "source": [
    "# connect to AtScale\n",
    "client:Client = Client(server=os.getenv(\"atscale-server\"),\n",
    "                organization='default',\n",
    "                username=os.getenv(\"atscale-user\"),\n",
    "                password=os.getenv(\"atscale-password\"),\n",
    "                verify=False)\n",
    "client.connect()\n"
   ]
  },
  {
   "cell_type": "code",
   "execution_count": null,
   "metadata": {
    "scrolled": false
   },
   "outputs": [],
   "source": [
    "# select the model to work with\n",
    "project:Project = client.select_project()\n"
   ]
  },
  {
   "cell_type": "code",
   "execution_count": null,
   "metadata": {},
   "outputs": [],
   "source": [
    "data_model:DataModel = project.select_data_model()"
   ]
  },
  {
   "cell_type": "markdown",
   "metadata": {},
   "source": [
    "To avoid loading the complete Model. Choose the necessary attributes and measures (query names of the attributes)"
   ]
  },
  {
   "cell_type": "code",
   "execution_count": null,
   "metadata": {},
   "outputs": [],
   "source": [
    "feature_list = ['Order Day_Date', 'Order YearMonth', 'Order Quarter', 'Order Month1', 'Gender', 'Color', 'salesamount1']"
   ]
  },
  {
   "cell_type": "markdown",
   "metadata": {},
   "source": [
    "Generate the LOAD part of the Qlik Script, which will translate the query names to captions for the Qlik Users\n"
   ]
  },
  {
   "cell_type": "code",
   "execution_count": null,
   "metadata": {},
   "outputs": [],
   "source": [
    "features = data_model.get_features(feature_list=feature_list)\n",
    "feature_name_map = {key: value['caption'] for key, value in features.items()}\n",
    "feature_type_map = {key: value['atscale_type'] for key, value in features.items()}\n",
    "load_string = 'LOAD\\n' + ',\\n'.join([f'[{key}] as [{value}]' for key, value in feature_name_map.items()]) + ',\\n;'\n",
    "print(load_string)"
   ]
  },
  {
   "cell_type": "markdown",
   "metadata": {},
   "source": [
    "Generate the SQL part for the Qlik script that actually loads the data from your datasource"
   ]
  },
  {
   "cell_type": "code",
   "execution_count": null,
   "metadata": {},
   "outputs": [],
   "source": [
    "query = data_model.get_database_query(feature_list=list(feature_name_map.keys()))\n",
    "select_string = query + '\\n;' #add a semicolon to add additional envelope for delta load logic\n"
   ]
  },
  {
   "cell_type": "markdown",
   "metadata": {},
   "source": [
    "Adjust the SQL for delta load. First adding an SELECT envelope to add a new WHERE clause for restricting the data from the last loaded date"
   ]
  },
  {
   "cell_type": "code",
   "execution_count": null,
   "metadata": {},
   "outputs": [],
   "source": [
    "pre_select = 'SQL SELECT * FROM ('\n",
    "post_select = ')WHERE `Order Day_Date` > \"$(lastLoad)\";'\n",
    "\n",
    "select_string = pre_select + select_string[:len(select_string)-1] + post_select\n"
   ]
  },
  {
   "cell_type": "markdown",
   "metadata": {},
   "source": [
    "Set your variables for \n",
    "\n",
    "**Datasource Connection:** Qlik Data Connection to your cloud data warehouse (Databricks, Snowflake, GBQ, Redshift, Synapse,...)\n",
    "\n",
    "Example:\n",
    "Qlik Cloud SaaS: \"Demo Stream:atscale-datasource\"\n",
    "Qlik Sense Enterprise on Windows: \"atscale-datasource\"\n",
    "\n",
    "**QVD filestore:** Qlik Filestorage.\n",
    "\n",
    "Example:\n",
    "Qlik Cloud Saas: \"demo Stream:Datafiles\n",
    "Qlik Sense Enterprise on Windows: \"lib://QVD Store\"\n",
    "\n"
   ]
  },
  {
   "cell_type": "code",
   "execution_count": null,
   "metadata": {},
   "outputs": [],
   "source": [
    "conn_datasource = 'AtScale Demo:atscale_demo'\n",
    "conn_filestore = 'lib://:DataFiles/'"
   ]
  },
  {
   "cell_type": "markdown",
   "metadata": {},
   "source": [
    "Initialize the qlik script"
   ]
  },
  {
   "cell_type": "code",
   "execution_count": null,
   "metadata": {},
   "outputs": [],
   "source": [
    "qlik_script = \"\""
   ]
  },
  {
   "cell_type": "markdown",
   "metadata": {},
   "source": [
    "Setting up default Qlik script header"
   ]
  },
  {
   "cell_type": "code",
   "execution_count": null,
   "metadata": {},
   "outputs": [],
   "source": [
    "\n",
    "qlik_script += f\"\"\"\n",
    "SET ThousandSep=',';\n",
    "SET DecimalSep='.';\n",
    "SET MoneyThousandSep=',';\n",
    "SET MoneyDecimalSep='.';\n",
    "SET MoneyFormat='$ ###0.00;-$ ###0.00';\n",
    "SET TimeFormat='h:mm:ss TT';\n",
    "SET DateFormat='M/D/YYYY';\n",
    "SET TimestampFormat='M/D/YYYY h:mm:ss[.fff] TT';\n",
    "SET FirstWeekDay=6;\n",
    "SET BrokenWeeks=1;\n",
    "SET ReferenceDay=0;\n",
    "SET FirstMonthOfYear=1;\n",
    "SET CollationLocale='en-US';\n",
    "SET CreateSearchIndexOnReload=1;\n",
    "SET MonthNames='Jan;Feb;Mar;Apr;May;Jun;Jul;Aug;Sep;Oct;Nov;Dec';\n",
    "SET LongMonthNames='January;February;March;April;May;June;July;August;September;October;November;December';\n",
    "SET DayNames='Mon;Tue;Wed;Thu;Fri;Sat;Sun';\n",
    "SET LongDayNames='Monday;Tuesday;Wednesday;Thursday;Friday;Saturday;Sunday';\n",
    "SET NumericalAbbreviation='3:k;6:M;9:G;12:T;15:P;18:E;21:Z;24:Y;-3:m;-6:μ;-9:n;-12:p;-15:f;-18:a;-21:z;-24:y';\n",
    "\"\"\""
   ]
  },
  {
   "cell_type": "markdown",
   "metadata": {},
   "source": [
    "Add qlik script logic for delta load. If no QVD exists, then load since 1900-01-01\n",
    "\n",
    "To get the last loaded date in the previous loaded data, the script needs to access the qvd file, located in the filestore connection."
   ]
  },
  {
   "cell_type": "code",
   "execution_count": null,
   "metadata": {},
   "outputs": [],
   "source": [
    "qlik_script += f\"\"\"\n",
    "\n",
    "IF IsNull(FileTime('{conn_filestore}ORDER.qvd')) THEN\n",
    "\tLET lastLoad = '1900-01-01';\n",
    "    TRACE no existing QVD found. Full load...;\n",
    "END IF;\n",
    "\n",
    "\"\"\""
   ]
  },
  {
   "cell_type": "markdown",
   "metadata": {},
   "source": [
    "Combine the load script, the sql select into the script:"
   ]
  },
  {
   "cell_type": "code",
   "execution_count": null,
   "metadata": {},
   "outputs": [],
   "source": [
    "\n",
    "qlik_script += f\"\"\"\n",
    "\n",
    "LIB CONNECT TO '{conn_datasource}';\n",
    "\n",
    "ORDER:\n",
    "\n",
    "{load_string}\n",
    "\n",
    "{select_string}\n",
    "\n",
    "\"\"\""
   ]
  },
  {
   "cell_type": "markdown",
   "metadata": {},
   "source": [
    "Combine the delta load with the previous load (QVD file)"
   ]
  },
  {
   "cell_type": "code",
   "execution_count": null,
   "metadata": {},
   "outputs": [],
   "source": [
    "qlik_script += f\"\"\"\n",
    "IF not(IsNull(FileTime('{conn_filestore}ORDER.qvd'))) THEN\n",
    "  TRACE existing QVD found. Adding delta to QVD...;\n",
    "  Concatenate (ORDER) \n",
    "  LOAD * FROM [{conn_filestore}ORDER.qvd]\n",
    "  (qvd);\n",
    " \n",
    "END IF ;\n",
    "\n",
    "LET lastLoad = date(today(),'YYYY-MM-DD');\n",
    "\n",
    "STORE ORDER INTO [{conn_filestore}ORDER.qvd](qvd);\n",
    "\n",
    "\"\"\""
   ]
  },
  {
   "attachments": {
    "image.png": {
     "image/png": "[encoded data removed]"
    }
   },
   "cell_type": "markdown",
   "metadata": {},
   "source": [
    "![image.png](attachment:image.png)\n",
    "\n",
    "Direct upload script to qlik saas app"
   ]
  },
  {
   "cell_type": "code",
   "execution_count": null,
   "metadata": {},
   "outputs": [],
   "source": [
    "#pip install qlik_sdk"
   ]
  },
  {
   "cell_type": "code",
   "execution_count": null,
   "metadata": {},
   "outputs": [],
   "source": [
    "from qlik_sdk import (\n",
    "    Apps, \n",
    "    Config, \n",
    "    AuthType, \n",
    "    Qlik, \n",
    "    NxLibraryMeasureDef,\n",
    "    GenericMeasureProperties,\n",
    "    GenericDimensionProperties, \n",
    "    NxLibraryDimensionDef,\n",
    "    NxInfo,\n",
    "    GenericDimension,\n",
    "    UpdateApp\n",
    ")\n",
    " \n",
    "\"\"\"\n",
    "Qlik Tenant Config\n",
    "\"\"\"\n",
    "base_url = os.getenv(\"qlik-saas-tenant\")\n",
    "api_key = os.getenv(\"qlik-saas-token\")\n",
    "\n",
    "\"\"\"\n",
    "Setting Up Config\n",
    "\"\"\"\n",
    "conf = Config(host=base_url, auth_type=AuthType.APIKey, api_key=api_key)\n",
    "q = Qlik(config=conf)\n",
    "q.users.get_me().name"
   ]
  },
  {
   "cell_type": "markdown",
   "metadata": {},
   "source": [
    "Load current app object"
   ]
  },
  {
   "cell_type": "code",
   "execution_count": null,
   "metadata": {},
   "outputs": [],
   "source": [
    "AppsObject =Apps(conf)\n",
    "atscale_app = AppsObject.get(os.getenv(\"qlik-saas-app-id\"))"
   ]
  },
  {
   "cell_type": "markdown",
   "metadata": {},
   "source": [
    "Push the new script into the app and reload the data"
   ]
  },
  {
   "cell_type": "code",
   "execution_count": null,
   "metadata": {},
   "outputs": [],
   "source": [
    "with atscale_app.open():\n",
    "    # Load in some data into the session document:\n",
    "    script = atscale_app.set_script(qlik_script)\n",
    "    atscale_app.do_reload()\n",
    "    "
   ]
  }
 ],
 "metadata": {
  "kernelspec": {
   "display_name": "Python 3 (ipykernel)",
   "language": "python",
   "name": "python3"
  },
  "language_info": {
   "codemirror_mode": {
    "name": "ipython",
    "version": 3
   },
   "file_extension": ".py",
   "mimetype": "text/x-python",
   "name": "python",
   "nbconvert_exporter": "python",
   "pygments_lexer": "ipython3",
   "version": "3.11.7"
  },
  "tags": "hide-input"
 },
 "nbformat": 4,
 "nbformat_minor": 4
}
